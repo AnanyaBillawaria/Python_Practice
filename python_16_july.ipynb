{
 "cells": [
  {
   "cell_type": "code",
   "execution_count": 4,
   "id": "b95c998f",
   "metadata": {},
   "outputs": [],
   "source": [
    "dictionary = {\n",
    "    123 : [12,3,5],\n",
    "    True:'hello',\n",
    "    '[100]': True\n",
    "}"
   ]
  },
  {
   "cell_type": "code",
   "execution_count": 2,
   "id": "a45bcf18",
   "metadata": {},
   "outputs": [
    {
     "name": "stdout",
     "output_type": "stream",
     "text": [
      "[12, 3, 5]\n"
     ]
    }
   ],
   "source": [
    "print(dictionary[123])"
   ]
  },
  {
   "cell_type": "code",
   "execution_count": 7,
   "id": "6a58a6f7",
   "metadata": {},
   "outputs": [
    {
     "ename": "KeyError",
     "evalue": "100",
     "output_type": "error",
     "traceback": [
      "\u001b[1;31m---------------------------------------------------------------------------\u001b[0m",
      "\u001b[1;31mKeyError\u001b[0m                                  Traceback (most recent call last)",
      "Cell \u001b[1;32mIn[7], line 1\u001b[0m\n\u001b[1;32m----> 1\u001b[0m \u001b[38;5;28mprint\u001b[39m(\u001b[43mdictionary\u001b[49m\u001b[43m[\u001b[49m\u001b[38;5;241;43m100\u001b[39;49m\u001b[43m]\u001b[49m) \u001b[38;5;66;03m# dict key always have to be immutable\u001b[39;00m\n",
      "\u001b[1;31mKeyError\u001b[0m: 100"
     ]
    }
   ],
   "source": [
    "print(dictionary[100]) # dict key always have to be immutable"
   ]
  },
  {
   "cell_type": "code",
   "execution_count": 8,
   "id": "54682c04",
   "metadata": {},
   "outputs": [],
   "source": [
    "dictionary = {\n",
    "    123 : [12,3,5],\n",
    "    123:'hello',\n",
    "    '[100]': True\n",
    "}"
   ]
  },
  {
   "cell_type": "code",
   "execution_count": null,
   "id": "2011b283",
   "metadata": {},
   "outputs": [
    {
     "ename": "KeyError",
     "evalue": "'123'",
     "output_type": "error",
     "traceback": [
      "\u001b[1;31m---------------------------------------------------------------------------\u001b[0m",
      "\u001b[1;31mKeyError\u001b[0m                                  Traceback (most recent call last)",
      "Cell \u001b[1;32mIn[9], line 1\u001b[0m\n\u001b[1;32m----> 1\u001b[0m \u001b[38;5;28mprint\u001b[39m(\u001b[43mdictionary\u001b[49m\u001b[43m[\u001b[49m\u001b[38;5;124;43m'\u001b[39;49m\u001b[38;5;124;43m123\u001b[39;49m\u001b[38;5;124;43m'\u001b[39;49m\u001b[43m]\u001b[49m)\n",
      "\u001b[1;31mKeyError\u001b[0m: '123'"
     ]
    }
   ],
   "source": [
    "print(dictionary['123']) # key should be unique"
   ]
  },
  {
   "cell_type": "code",
   "execution_count": 10,
   "id": "a26a9ac3",
   "metadata": {},
   "outputs": [],
   "source": [
    "User = {\n",
    "    'um' : [12,3,5],\n",
    "    123:'hello',\n",
    "    '[100]': True\n",
    "}"
   ]
  },
  {
   "cell_type": "code",
   "execution_count": 14,
   "id": "2173ee54",
   "metadata": {},
   "outputs": [
    {
     "name": "stdout",
     "output_type": "stream",
     "text": [
      "55\n"
     ]
    }
   ],
   "source": [
    "print(User.get('age',55))   # to get key when we dont know whats in the dictionary "
   ]
  },
  {
   "cell_type": "code",
   "execution_count": 19,
   "id": "ceef4db3",
   "metadata": {},
   "outputs": [
    {
     "name": "stdout",
     "output_type": "stream",
     "text": [
      "{'name': 'jojo'}\n"
     ]
    }
   ],
   "source": [
    "User = {\n",
    "    'um' : [12,3,5],\n",
    "    123:'hello',\n",
    "    'age': 45\n",
    "}\n",
    "\n",
    "user_2 = dict(name= 'jojo')\n",
    "print(user_2)"
   ]
  },
  {
   "cell_type": "code",
   "execution_count": 16,
   "id": "9b1583f9",
   "metadata": {},
   "outputs": [
    {
     "name": "stdout",
     "output_type": "stream",
     "text": [
      "45\n"
     ]
    }
   ],
   "source": [
    "print(User.get('age',55)) "
   ]
  },
  {
   "cell_type": "code",
   "execution_count": 28,
   "id": "3e1b137c",
   "metadata": {},
   "outputs": [
    {
     "name": "stdout",
     "output_type": "stream",
     "text": [
      "dict_items([('um', [12, 3, 5]), ('greet', 'hello'), ('age', 45)])\n"
     ]
    }
   ],
   "source": [
    "user = {\n",
    "    'um' : [12,3,5],\n",
    "    'greet':'hello',\n",
    "    'age': 45\n",
    "}\n",
    "\n",
    "'i' in 'hi'\n",
    "print(user.items()) # to get whats all there in dict"
   ]
  },
  {
   "cell_type": "code",
   "execution_count": null,
   "id": "988dae77",
   "metadata": {},
   "outputs": [
    {
     "name": "stdout",
     "output_type": "stream",
     "text": [
      "('age', 45)\n",
      "{'um': [12, 3, 5], 'greet': 'hello'}\n"
     ]
    }
   ],
   "source": [
    "print(user.popitem()) # randomly pops any value\n",
    "print(user)"
   ]
  },
  {
   "cell_type": "code",
   "execution_count": 30,
   "id": "57a743c0",
   "metadata": {},
   "outputs": [
    {
     "name": "stdout",
     "output_type": "stream",
     "text": [
      "None\n"
     ]
    }
   ],
   "source": [
    "print(user.update({'age': 25}))"
   ]
  },
  {
   "cell_type": "code",
   "execution_count": 31,
   "id": "8a935cd6",
   "metadata": {},
   "outputs": [
    {
     "name": "stdout",
     "output_type": "stream",
     "text": [
      "{'um': [12, 3, 5], 'greet': 'hello', 'age': 25}\n"
     ]
    }
   ],
   "source": [
    "print(user)"
   ]
  }
 ],
 "metadata": {
  "kernelspec": {
   "display_name": "base",
   "language": "python",
   "name": "python3"
  },
  "language_info": {
   "codemirror_mode": {
    "name": "ipython",
    "version": 3
   },
   "file_extension": ".py",
   "mimetype": "text/x-python",
   "name": "python",
   "nbconvert_exporter": "python",
   "pygments_lexer": "ipython3",
   "version": "3.11.4"
  }
 },
 "nbformat": 4,
 "nbformat_minor": 5
}
