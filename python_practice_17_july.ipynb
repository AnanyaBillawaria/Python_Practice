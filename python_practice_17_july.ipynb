{
 "cells": [
  {
   "cell_type": "code",
   "execution_count": 3,
   "id": "f0811110",
   "metadata": {},
   "outputs": [
    {
     "name": "stdout",
     "output_type": "stream",
     "text": [
      "4\n"
     ]
    }
   ],
   "source": [
    "# Tuple \n",
    "my_tup = (1,2,3,4,5)\n",
    "print(my_tup[3])"
   ]
  },
  {
   "cell_type": "code",
   "execution_count": null,
   "id": "ec1b9ea9",
   "metadata": {},
   "outputs": [
    {
     "ename": "TypeError",
     "evalue": "'tuple' object does not support item assignment",
     "output_type": "error",
     "traceback": [
      "\u001b[31m---------------------------------------------------------------------------\u001b[39m",
      "\u001b[31mTypeError\u001b[39m                                 Traceback (most recent call last)",
      "\u001b[36mCell\u001b[39m\u001b[36m \u001b[39m\u001b[32mIn[4]\u001b[39m\u001b[32m, line 1\u001b[39m\n\u001b[32m----> \u001b[39m\u001b[32m1\u001b[39m \u001b[43mmy_tup\u001b[49m\u001b[43m[\u001b[49m\u001b[32;43m1\u001b[39;49m\u001b[43m]\u001b[49m = \u001b[33m'\u001b[39m\u001b[33mhu\u001b[39m\u001b[33m'\u001b[39m\n",
      "\u001b[31mTypeError\u001b[39m: 'tuple' object does not support item assignment"
     ]
    }
   ],
   "source": [
    "my_tup[1] = 'hu' # tupples are immutable \n"
   ]
  },
  {
   "cell_type": "code",
   "execution_count": null,
   "id": "bb6c3613",
   "metadata": {},
   "outputs": [
    {
     "name": "stdout",
     "output_type": "stream",
     "text": [
      "True\n"
     ]
    }
   ],
   "source": [
    "print(5 in my_tup) # does 5 exist in tuple\n"
   ]
  },
  {
   "cell_type": "code",
   "execution_count": 7,
   "id": "c151017c",
   "metadata": {},
   "outputs": [
    {
     "name": "stdout",
     "output_type": "stream",
     "text": [
      "[4, 5]\n"
     ]
    }
   ],
   "source": [
    "# Tuple \n",
    "my_tuple = (1,2,3,4,5)\n",
    "'''x = my_tuple[0]\n",
    "y = my_tuple[1]'''\n",
    "x,y,z,*other = (1,2,3,4,5)\n",
    "print(other)"
   ]
  },
  {
   "cell_type": "code",
   "execution_count": null,
   "id": "686d4377",
   "metadata": {},
   "outputs": [
    {
     "name": "stdout",
     "output_type": "stream",
     "text": [
      "4\n",
      "5\n",
      "1\n"
     ]
    }
   ],
   "source": [
    "# tuple has only 2 methods \n",
    "print(my_tuple.index(5))\n",
    "print(len(my_tuple))\n",
    "print(my_tuple.count(4)) # how many 4's"
   ]
  },
  {
   "cell_type": "code",
   "execution_count": 14,
   "id": "1ba3f061",
   "metadata": {},
   "outputs": [
    {
     "name": "stdout",
     "output_type": "stream",
     "text": [
      "{1, 2, 3, 4, 5}\n"
     ]
    }
   ],
   "source": [
    "#SET \n",
    "my_set ={1,2,3,4,5,5}\n",
    "print(my_set)  # only prints unique values\n",
    "my_set.add(100)"
   ]
  },
  {
   "cell_type": "code",
   "execution_count": 15,
   "id": "95ebebb5",
   "metadata": {},
   "outputs": [
    {
     "name": "stdout",
     "output_type": "stream",
     "text": [
      "{1, 2, 3, 4, 5, 100}\n"
     ]
    }
   ],
   "source": [
    "print(my_set)  "
   ]
  },
  {
   "cell_type": "code",
   "execution_count": null,
   "id": "673c1c4d",
   "metadata": {},
   "outputs": [
    {
     "name": "stdout",
     "output_type": "stream",
     "text": [
      "True\n",
      "5\n",
      "[1, 2, 3, 4, 5]\n"
     ]
    }
   ],
   "source": [
    "my_set = {1,2,3,4,5,5}\n",
    "new_set = my_set.copy\n",
    "# task : return a list that has no duplicate values\n",
    "#print(my_set[0] ) # we need a key to access \n",
    "print(1 in my_set)\n",
    "print(len(my_set))\n",
    "print(list(my_set))"
   ]
  },
  {
   "cell_type": "code",
   "execution_count": null,
   "id": "b4b09b9f",
   "metadata": {},
   "outputs": [
    {
     "name": "stdout",
     "output_type": "stream",
     "text": [
      "<built-in method copy of set object at 0x00000258E217E0A0>\n"
     ]
    }
   ],
   "source": [
    "my_set = {1,2,3,4,5,5}\n",
    "new_set = my_set.copy\n",
    "my_set.clear()\n",
    "print(new_set)"
   ]
  },
  {
   "cell_type": "code",
   "execution_count": null,
   "id": "12b4a795",
   "metadata": {},
   "outputs": [
    {
     "name": "stdout",
     "output_type": "stream",
     "text": [
      "{1, 2, 3}\n"
     ]
    }
   ],
   "source": [
    "# methods \n",
    "\n",
    "my_set = {1,2,3,4,5}\n",
    "your_set = {4,5,6,7,8,9,10}\n",
    "\n",
    "print(my_set.difference(your_set))\n",
    "# when viewed from my_set the diff is 1,2,3 . juat shows diff"
   ]
  },
  {
   "cell_type": "code",
   "execution_count": null,
   "id": "dca8689e",
   "metadata": {},
   "outputs": [
    {
     "name": "stdout",
     "output_type": "stream",
     "text": [
      "None\n",
      "{1, 2, 3, 4}\n"
     ]
    }
   ],
   "source": [
    "print(my_set.discard(5))\n",
    "print(my_set) # modifies the set "
   ]
  },
  {
   "cell_type": "code",
   "execution_count": null,
   "id": "f9e5cb0a",
   "metadata": {},
   "outputs": [
    {
     "name": "stdout",
     "output_type": "stream",
     "text": [
      "None\n",
      "{1, 2, 3}\n"
     ]
    }
   ],
   "source": [
    "print(my_set.difference_update(your_set))\n",
    "print(my_set) # modifies for diff"
   ]
  },
  {
   "cell_type": "code",
   "execution_count": 37,
   "id": "a00427ae",
   "metadata": {},
   "outputs": [
    {
     "name": "stdout",
     "output_type": "stream",
     "text": [
      "{4, 5}\n"
     ]
    }
   ],
   "source": [
    "my_set = {1,2,3,4,5}\n",
    "your_set = {4,5,6,7,8,9,10}\n",
    "print(my_set.intersection(your_set))\n"
   ]
  },
  {
   "cell_type": "code",
   "execution_count": 40,
   "id": "d4033b79",
   "metadata": {},
   "outputs": [
    {
     "name": "stdout",
     "output_type": "stream",
     "text": [
      "True\n"
     ]
    }
   ],
   "source": [
    "my_set = {1,2,3}\n",
    "your_set = {4,5,6,7,8,9,10}\n",
    "print(my_set.isdisjoint(your_set)) # if true means yes there is nothing in common "
   ]
  },
  {
   "cell_type": "code",
   "execution_count": 41,
   "id": "e5fc3141",
   "metadata": {},
   "outputs": [
    {
     "name": "stdout",
     "output_type": "stream",
     "text": [
      "{1, 2, 3, 4, 5, 6, 7, 8, 9, 10}\n"
     ]
    }
   ],
   "source": [
    "print(my_set.union(your_set))"
   ]
  },
  {
   "cell_type": "code",
   "execution_count": null,
   "id": "5356a6f0",
   "metadata": {},
   "outputs": [
    {
     "name": "stdout",
     "output_type": "stream",
     "text": [
      "{1, 2, 3, 4, 5, 6, 7, 8, 9, 10}\n"
     ]
    }
   ],
   "source": [
    "print(my_set| your_set) # union "
   ]
  },
  {
   "cell_type": "code",
   "execution_count": null,
   "id": "4b0e03c9",
   "metadata": {},
   "outputs": [
    {
     "name": "stdout",
     "output_type": "stream",
     "text": [
      "set()\n"
     ]
    }
   ],
   "source": [
    "print(my_set & your_set) #intersection"
   ]
  },
  {
   "cell_type": "code",
   "execution_count": 46,
   "id": "c065025a",
   "metadata": {},
   "outputs": [
    {
     "name": "stdout",
     "output_type": "stream",
     "text": [
      "True\n",
      "True\n"
     ]
    }
   ],
   "source": [
    "my_set = {4,5}\n",
    "your_set = {4,5,6,7,8,9,10}\n",
    "\n",
    "print(my_set.issubset(your_set))\n",
    "print(your_set.issuperset(my_set))"
   ]
  },
  {
   "cell_type": "code",
   "execution_count": null,
   "id": "8448d7d2",
   "metadata": {},
   "outputs": [],
   "source": []
  }
 ],
 "metadata": {
  "kernelspec": {
   "display_name": ".venv",
   "language": "python",
   "name": "python3"
  },
  "language_info": {
   "codemirror_mode": {
    "name": "ipython",
    "version": 3
   },
   "file_extension": ".py",
   "mimetype": "text/x-python",
   "name": "python",
   "nbconvert_exporter": "python",
   "pygments_lexer": "ipython3",
   "version": "3.11.9"
  }
 },
 "nbformat": 4,
 "nbformat_minor": 5
}
