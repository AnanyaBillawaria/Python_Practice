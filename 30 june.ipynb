{
 "cells": [
  {
   "cell_type": "code",
   "execution_count": null,
   "id": "8c56cfb6",
   "metadata": {},
   "outputs": [],
   "source": [
    "# Fundamental data types \n",
    "int\n",
    "float\n",
    "bool\n",
    "list\n",
    "tuple\n",
    "set \n",
    "dict\n",
    "# classes -> custom types \n",
    "# specialized data types \n",
    "None\n"
   ]
  },
  {
   "cell_type": "code",
   "execution_count": 3,
   "id": "06547cd9",
   "metadata": {},
   "outputs": [
    {
     "name": "stdout",
     "output_type": "stream",
     "text": [
      "6\n",
      "-2\n",
      "8\n",
      "0.5\n"
     ]
    }
   ],
   "source": [
    "#int \n",
    "print(2 + 4)  # perform this action on data types \n",
    "print(2 - 4)\n",
    "print(2 * 4)\n",
    "print(2 / 4)\n"
   ]
  },
  {
   "cell_type": "code",
   "execution_count": null,
   "id": "4a8fa62c",
   "metadata": {},
   "outputs": [
    {
     "name": "stdout",
     "output_type": "stream",
     "text": [
      "<class 'int'>\n",
      "<class 'int'>\n",
      "<class 'int'>\n",
      "<class 'float'>\n"
     ]
    }
   ],
   "source": [
    "print(type(2 + 4)) # perform this action on data types \n",
    "print(type(2 - 4))\n",
    "print(type(2 * 4))\n",
    "print(type(2 / 4)) # 0.5"
   ]
  },
  {
   "cell_type": "code",
   "execution_count": 6,
   "id": "a3a3407e",
   "metadata": {},
   "outputs": [
    {
     "name": "stdout",
     "output_type": "stream",
     "text": [
      "<class 'float'>\n"
     ]
    }
   ],
   "source": [
    "print(type(0.2222))"
   ]
  },
  {
   "cell_type": "code",
   "execution_count": 9,
   "id": "6b69da93",
   "metadata": {},
   "outputs": [
    {
     "name": "stdout",
     "output_type": "stream",
     "text": [
      "<class 'float'>\n"
     ]
    }
   ],
   "source": [
    "print(type(10+1.1))"
   ]
  },
  {
   "cell_type": "code",
   "execution_count": 8,
   "id": "9ff35b0a",
   "metadata": {},
   "outputs": [
    {
     "name": "stdout",
     "output_type": "stream",
     "text": [
      "<class 'float'>\n"
     ]
    }
   ],
   "source": [
    "print (type(9.9 +1.1))"
   ]
  },
  {
   "cell_type": "code",
   "execution_count": 10,
   "id": "2b8bac06",
   "metadata": {},
   "outputs": [
    {
     "name": "stdout",
     "output_type": "stream",
     "text": [
      "4\n"
     ]
    }
   ],
   "source": [
    "print(2**2)"
   ]
  },
  {
   "cell_type": "code",
   "execution_count": null,
   "id": "a7c7c2d1",
   "metadata": {},
   "outputs": [
    {
     "name": "stdout",
     "output_type": "stream",
     "text": [
      "0\n"
     ]
    }
   ],
   "source": [
    "print(3//4) # gives rounded off integer "
   ]
  },
  {
   "cell_type": "code",
   "execution_count": null,
   "id": "ab71cb12",
   "metadata": {},
   "outputs": [
    {
     "name": "stdout",
     "output_type": "stream",
     "text": [
      "1\n"
     ]
    }
   ],
   "source": [
    "print(5%4) #modulo = whats the remainder of this division"
   ]
  },
  {
   "cell_type": "code",
   "execution_count": 14,
   "id": "41ed3bc2",
   "metadata": {},
   "outputs": [
    {
     "name": "stdout",
     "output_type": "stream",
     "text": [
      "0\n"
     ]
    }
   ],
   "source": [
    "print(8%4)"
   ]
  },
  {
   "cell_type": "code",
   "execution_count": 19,
   "id": "4217eb12",
   "metadata": {},
   "outputs": [
    {
     "name": "stdout",
     "output_type": "stream",
     "text": [
      "20\n"
     ]
    }
   ],
   "source": [
    "# math functions \n",
    "round(3.9)\n",
    "print(abs(-20)) #absolute value "
   ]
  },
  {
   "cell_type": "markdown",
   "id": "faf347d6",
   "metadata": {},
   "source": [
    "Dont read the dictionary , i.e dont read all . you can always google "
   ]
  },
  {
   "cell_type": "code",
   "execution_count": null,
   "id": "1df7dc79",
   "metadata": {},
   "outputs": [
    {
     "data": {
      "text/plain": [
       "8"
      ]
     },
     "execution_count": 21,
     "metadata": {},
     "output_type": "execute_result"
    }
   ],
   "source": [
    "# operator precedence \n",
    "20 - 3*4\n",
    "\n",
    "''' ()\n",
    "**\n",
    "/\n",
    "*\n",
    "+\n",
    "-\n",
    "'''"
   ]
  },
  {
   "cell_type": "code",
   "execution_count": 22,
   "id": "71bc3088",
   "metadata": {},
   "outputs": [
    {
     "data": {
      "text/plain": [
       "'0b110'"
      ]
     },
     "execution_count": 22,
     "metadata": {},
     "output_type": "execute_result"
    }
   ],
   "source": [
    "# complex data type\n",
    "#complex number is a third type \n",
    "bin (6)"
   ]
  },
  {
   "cell_type": "code",
   "execution_count": 25,
   "id": "2aae8122",
   "metadata": {},
   "outputs": [
    {
     "data": {
      "text/plain": [
       "6"
      ]
     },
     "execution_count": 25,
     "metadata": {},
     "output_type": "execute_result"
    }
   ],
   "source": [
    "int('0b110', 2)"
   ]
  }
 ],
 "metadata": {
  "kernelspec": {
   "display_name": "base",
   "language": "python",
   "name": "python3"
  },
  "language_info": {
   "codemirror_mode": {
    "name": "ipython",
    "version": 3
   },
   "file_extension": ".py",
   "mimetype": "text/x-python",
   "name": "python",
   "nbconvert_exporter": "python",
   "pygments_lexer": "ipython3",
   "version": "3.11.4"
  }
 },
 "nbformat": 4,
 "nbformat_minor": 5
}
