{
 "cells": [
  {
   "cell_type": "code",
   "execution_count": null,
   "id": "9a94527f",
   "metadata": {},
   "outputs": [
    {
     "name": "stdout",
     "output_type": "stream",
     "text": [
      "['a', 'b', 'c', 'd', 'x']\n",
      "['x', 'd', 'c', 'b', 'a']\n",
      "['a', 'b', 'c', 'd', 'x']\n"
     ]
    }
   ],
   "source": [
    "basket = ['a','x','b','c' ,'d']\n",
    "basket.sort()\n",
    "print(basket)\n",
    "basket.reverse() # alters the list\n",
    "print(basket)\n",
    "print(basket[::-1]) # it just creates a new version"
   ]
  },
  {
   "cell_type": "code",
   "execution_count": 6,
   "id": "d23f62cf",
   "metadata": {},
   "outputs": [
    {
     "name": "stdout",
     "output_type": "stream",
     "text": [
      "5\n"
     ]
    }
   ],
   "source": [
    "print(len(basket))"
   ]
  },
  {
   "cell_type": "code",
   "execution_count": 7,
   "id": "c11bfe14",
   "metadata": {},
   "outputs": [
    {
     "name": "stdout",
     "output_type": "stream",
     "text": [
      "['x', 'd', 'c', 'b', 'a']\n"
     ]
    }
   ],
   "source": [
    "print(basket)"
   ]
  },
  {
   "cell_type": "code",
   "execution_count": null,
   "id": "74e5cde4",
   "metadata": {},
   "outputs": [
    {
     "name": "stdout",
     "output_type": "stream",
     "text": [
      "range(1, 99)\n"
     ]
    }
   ],
   "source": [
    "print(range(1,100))"
   ]
  },
  {
   "cell_type": "code",
   "execution_count": 11,
   "id": "62788b3a",
   "metadata": {},
   "outputs": [
    {
     "name": "stdout",
     "output_type": "stream",
     "text": [
      "[0, 1, 2, 3, 4, 5, 6, 7, 8, 9, 10, 11, 12, 13, 14, 15, 16, 17, 18, 19, 20, 21, 22, 23, 24, 25, 26, 27, 28, 29, 30, 31, 32, 33, 34, 35, 36, 37, 38, 39, 40, 41, 42, 43, 44, 45, 46, 47, 48, 49, 50, 51, 52, 53, 54, 55, 56, 57, 58, 59, 60, 61, 62, 63, 64, 65, 66, 67, 68, 69, 70, 71, 72, 73, 74, 75, 76, 77, 78, 79, 80, 81, 82, 83, 84, 85, 86, 87, 88, 89, 90, 91, 92, 93, 94, 95, 96, 97, 98, 99, 100]\n"
     ]
    }
   ],
   "source": [
    "print(list(range(101)))"
   ]
  },
  {
   "cell_type": "code",
   "execution_count": null,
   "id": "0900bd0f",
   "metadata": {},
   "outputs": [],
   "source": [
    "sentence = ' ' # create a string from a list \n",
    "new_sentence = sentence.join(['hi','my','name','is','jill'])"
   ]
  },
  {
   "cell_type": "code",
   "execution_count": 20,
   "id": "4c356997",
   "metadata": {},
   "outputs": [
    {
     "name": "stdout",
     "output_type": "stream",
     "text": [
      "hi my name is jill\n"
     ]
    }
   ],
   "source": [
    "print(new_sentence)"
   ]
  },
  {
   "cell_type": "code",
   "execution_count": 21,
   "id": "f8c5528f",
   "metadata": {},
   "outputs": [],
   "source": [
    "new_sen = ' '.join(['hi','my','name','is','coco'])"
   ]
  },
  {
   "cell_type": "code",
   "execution_count": 22,
   "id": "5aac4298",
   "metadata": {},
   "outputs": [
    {
     "name": "stdout",
     "output_type": "stream",
     "text": [
      "hi my name is coco\n"
     ]
    }
   ],
   "source": [
    "print(new_sen)"
   ]
  },
  {
   "cell_type": "code",
   "execution_count": 23,
   "id": "5d8a65d8",
   "metadata": {},
   "outputs": [
    {
     "name": "stdout",
     "output_type": "stream",
     "text": [
      "1\n",
      "2\n",
      "3\n"
     ]
    }
   ],
   "source": [
    "#list unpacking \n",
    "basket = [1,2,3]\n",
    "# if i want to assign a variable to each \n",
    "a,b,c = [1,2,3]\n",
    "print(a)\n",
    "print(b)\n",
    "print(c)"
   ]
  },
  {
   "cell_type": "code",
   "execution_count": null,
   "id": "67a8266a",
   "metadata": {},
   "outputs": [
    {
     "name": "stdout",
     "output_type": "stream",
     "text": [
      "[4, 5, 6, 7, 8]\n"
     ]
    }
   ],
   "source": [
    "a,b,c, *other, d= [1,2,3,4,5,6,7,8,9] # now d is the very last item\n",
    "print(other)\n"
   ]
  },
  {
   "cell_type": "code",
   "execution_count": 26,
   "id": "5b3f7c92",
   "metadata": {},
   "outputs": [
    {
     "name": "stdout",
     "output_type": "stream",
     "text": [
      "None\n"
     ]
    }
   ],
   "source": [
    "weapons = None \n",
    "print(weapons)"
   ]
  },
  {
   "cell_type": "markdown",
   "id": "a8c03b34",
   "metadata": {},
   "source": [
    "Dictionary"
   ]
  },
  {
   "cell_type": "code",
   "execution_count": 27,
   "id": "474bc9d6",
   "metadata": {},
   "outputs": [],
   "source": [
    "dictionary = {\n",
    "    'a':'2',\n",
    "    'b':'4'\n",
    "}"
   ]
  },
  {
   "cell_type": "code",
   "execution_count": 29,
   "id": "d4945b29",
   "metadata": {},
   "outputs": [
    {
     "name": "stdout",
     "output_type": "stream",
     "text": [
      "4\n"
     ]
    }
   ],
   "source": [
    "print(dictionary['b'])"
   ]
  },
  {
   "cell_type": "code",
   "execution_count": null,
   "id": "0c33543f",
   "metadata": {},
   "outputs": [],
   "source": [
    "# dictionary is all over the place , they wont be next to each other to access like a list"
   ]
  },
  {
   "cell_type": "code",
   "execution_count": 30,
   "id": "bce4fca6",
   "metadata": {},
   "outputs": [
    {
     "name": "stdout",
     "output_type": "stream",
     "text": [
      "{'a': '2', 'b': '4'}\n"
     ]
    }
   ],
   "source": [
    "print(dictionary)"
   ]
  },
  {
   "cell_type": "code",
   "execution_count": 33,
   "id": "005a970e",
   "metadata": {},
   "outputs": [
    {
     "name": "stdout",
     "output_type": "stream",
     "text": [
      "[{'a': [1, 2, 3], 'b': 'hello', 'c': True}, {'a': [4, 5, 6], 'b': 'hello', 'x': True}]\n"
     ]
    }
   ],
   "source": [
    "my_list = [\n",
    "    {\n",
    "        'a': [1,2,3],\n",
    "        'b': 'hello',\n",
    "        'c': True\n",
    "    },\n",
    "    {\n",
    "        'a':[4,5,6],\n",
    "        'b': 'hello',\n",
    "        'x': True\n",
    "}\n",
    "]\n",
    "print(my_list)"
   ]
  },
  {
   "cell_type": "code",
   "execution_count": 35,
   "id": "8eab93df",
   "metadata": {},
   "outputs": [
    {
     "name": "stdout",
     "output_type": "stream",
     "text": [
      "3\n"
     ]
    }
   ],
   "source": [
    "print(my_list[0]['a'][2])"
   ]
  },
  {
   "cell_type": "code",
   "execution_count": null,
   "id": "1f8b566e",
   "metadata": {},
   "outputs": [],
   "source": []
  }
 ],
 "metadata": {
  "kernelspec": {
   "display_name": "base",
   "language": "python",
   "name": "python3"
  },
  "language_info": {
   "codemirror_mode": {
    "name": "ipython",
    "version": 3
   },
   "file_extension": ".py",
   "mimetype": "text/x-python",
   "name": "python",
   "nbconvert_exporter": "python",
   "pygments_lexer": "ipython3",
   "version": "3.11.4"
  }
 },
 "nbformat": 4,
 "nbformat_minor": 5
}
