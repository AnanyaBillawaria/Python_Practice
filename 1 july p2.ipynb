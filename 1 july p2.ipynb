{
 "cells": [
  {
   "cell_type": "code",
   "execution_count": 2,
   "id": "59cea468",
   "metadata": {},
   "outputs": [
    {
     "name": "stdout",
     "output_type": "stream",
     "text": [
      "8\n"
     ]
    }
   ],
   "source": [
    "# Immutability \n",
    "# strings in python cannot be changed \n",
    "selfish = '012345678'\n",
    "selfish = '8'\n",
    "print(selfish)"
   ]
  },
  {
   "cell_type": "code",
   "execution_count": null,
   "id": "65843348",
   "metadata": {},
   "outputs": [
    {
     "ename": "TypeError",
     "evalue": "'str' object does not support item assignment",
     "output_type": "error",
     "traceback": [
      "\u001b[1;31m---------------------------------------------------------------------------\u001b[0m",
      "\u001b[1;31mTypeError\u001b[0m                                 Traceback (most recent call last)",
      "Cell \u001b[1;32mIn[3], line 2\u001b[0m\n\u001b[0;32m      1\u001b[0m selfish \u001b[38;5;241m=\u001b[39m \u001b[38;5;124m'\u001b[39m\u001b[38;5;124m012345678\u001b[39m\u001b[38;5;124m'\u001b[39m\n\u001b[1;32m----> 2\u001b[0m \u001b[43mselfish\u001b[49m\u001b[43m[\u001b[49m\u001b[38;5;241;43m0\u001b[39;49m\u001b[43m]\u001b[49m \u001b[38;5;241m=\u001b[39m \u001b[38;5;124m'\u001b[39m\u001b[38;5;124m8\u001b[39m\u001b[38;5;124m'\u001b[39m\n\u001b[0;32m      3\u001b[0m \u001b[38;5;28mprint\u001b[39m(selfish)\n",
      "\u001b[1;31mTypeError\u001b[0m: 'str' object does not support item assignment"
     ]
    }
   ],
   "source": [
    "selfish = '012345678'\n",
    "selfish[0] = '8'    # i can only completely reassign the value # that creates a new string \n",
    "print(selfish)"
   ]
  },
  {
   "cell_type": "code",
   "execution_count": null,
   "id": "265ecdb6",
   "metadata": {},
   "outputs": [
    {
     "data": {
      "text/plain": [
       "12"
      ]
     },
     "execution_count": 4,
     "metadata": {},
     "output_type": "execute_result"
    }
   ],
   "source": [
    "len('hiiiiiiiiiii') # it doesnt count from 0 "
   ]
  },
  {
   "cell_type": "code",
   "execution_count": 7,
   "id": "97181dee",
   "metadata": {},
   "outputs": [
    {
     "name": "stdout",
     "output_type": "stream",
     "text": [
      "ooooooooooooooo\n"
     ]
    }
   ],
   "source": [
    "greet = 'helllloooooooooooooooo'\n",
    "print(greet[7:len(greet)])"
   ]
  },
  {
   "cell_type": "markdown",
   "id": "afd38c90",
   "metadata": {},
   "source": [
    "Stringsss Methods \n",
    "\n",
    ".format() \n",
    "\n"
   ]
  },
  {
   "cell_type": "code",
   "execution_count": 8,
   "id": "de2f1032",
   "metadata": {},
   "outputs": [
    {
     "name": "stdout",
     "output_type": "stream",
     "text": [
      "TO BE OR NOT TO BE \n"
     ]
    }
   ],
   "source": [
    "quote = 'to be or not to be '\n",
    "print(quote.upper())"
   ]
  },
  {
   "cell_type": "code",
   "execution_count": 9,
   "id": "a879f9f9",
   "metadata": {},
   "outputs": [
    {
     "name": "stdout",
     "output_type": "stream",
     "text": [
      "To be or not to be \n"
     ]
    }
   ],
   "source": [
    "quote = 'to be or not to be '\n",
    "print(quote.capitalize())"
   ]
  },
  {
   "cell_type": "code",
   "execution_count": 10,
   "id": "aca05ad4",
   "metadata": {},
   "outputs": [
    {
     "name": "stdout",
     "output_type": "stream",
     "text": [
      "3\n"
     ]
    }
   ],
   "source": [
    "quote = 'to be or not to be '\n",
    "print(quote.find('be'))"
   ]
  },
  {
   "cell_type": "code",
   "execution_count": null,
   "id": "e1984935",
   "metadata": {},
   "outputs": [
    {
     "name": "stdout",
     "output_type": "stream",
     "text": [
      "to me or not to me \n",
      "to be or not to be \n"
     ]
    }
   ],
   "source": [
    "quote = 'to be or not to be '\n",
    "print(quote.replace('be', 'me')) # new string is created \n",
    "print(quote) #because strings are not immutable , cannot be modified . \n"
   ]
  },
  {
   "cell_type": "code",
   "execution_count": 15,
   "id": "173acaeb",
   "metadata": {},
   "outputs": [
    {
     "name": "stdout",
     "output_type": "stream",
     "text": [
      "False\n"
     ]
    }
   ],
   "source": [
    "#boolean\n",
    "name = 'ananyaaaa'\n",
    "is_cool = False\n",
    "is_cool = True \n",
    "\n",
    "print(bool(0))"
   ]
  },
  {
   "cell_type": "markdown",
   "id": "652a2875",
   "metadata": {},
   "source": []
  },
  {
   "cell_type": "code",
   "execution_count": 4,
   "id": "3f5f60af",
   "metadata": {},
   "outputs": [
    {
     "name": "stdout",
     "output_type": "stream",
     "text": [
      "it's complicated\n"
     ]
    }
   ],
   "source": [
    "name = 'ana'\n",
    "age = 50 \n",
    "rel_status = 'single'\n",
    "rel_status = 'it\\'s complicated'\n",
    "print(rel_status)"
   ]
  },
  {
   "cell_type": "code",
   "execution_count": null,
   "id": "0c080edc",
   "metadata": {},
   "outputs": [
    {
     "name": "stdout",
     "output_type": "stream",
     "text": [
      "try again\n"
     ]
    }
   ],
   "source": [
    "# program tht guesses your age \n",
    "'''birth_year = input('what year were you born')\n",
    "if birth_year == 2000:\n",
    "    print('you are born in 2000')\n",
    "else:\n",
    "    print('try again')    '''"
   ]
  },
  {
   "cell_type": "code",
   "execution_count": 26,
   "id": "3fac55bd",
   "metadata": {},
   "outputs": [
    {
     "name": "stdout",
     "output_type": "stream",
     "text": [
      "True hehe\n"
     ]
    }
   ],
   "source": [
    "birth_year = int(input ('what year were you born'))\n",
    "\n",
    "valid_year = bool(birth_year == 2000 )\n",
    "print(str(valid_year) + ' hehe' )"
   ]
  },
  {
   "cell_type": "code",
   "execution_count": null,
   "id": "152dff84",
   "metadata": {},
   "outputs": [
    {
     "name": "stdout",
     "output_type": "stream",
     "text": [
      "you are 25\n"
     ]
    }
   ],
   "source": [
    "birth_year = int(input('what year were you born in '))\n",
    "age = 2025 - birth_year\n",
    "print(f'you are {age}') #remember to add f for format to make the embed alive\n"
   ]
  },
  {
   "cell_type": "markdown",
   "id": "cd5f0be6",
   "metadata": {},
   "source": [
    "# Excercise \n",
    "input('lolo')\n",
    "input('secret')\n",
    "print('{username}, your password {*******} is {6} letters long')\n",
    "print('*'*10)\n",
    "\n"
   ]
  },
  {
   "cell_type": "code",
   "execution_count": null,
   "id": "4a0c16b3",
   "metadata": {},
   "outputs": [
    {
     "name": "stdout",
     "output_type": "stream",
     "text": [
      "ananya your password ************ is 12 digits long\n",
      "192391391731\n"
     ]
    }
   ],
   "source": [
    "username = input('Please give your username')\n",
    "password = input('please enter your password')\n",
    "hidden_password = '*'* len(password)\n",
    "print(f'{username} your password {hidden_password} is {len(password)} digits long')\n"
   ]
  }
 ],
 "metadata": {
  "kernelspec": {
   "display_name": "base",
   "language": "python",
   "name": "python3"
  },
  "language_info": {
   "codemirror_mode": {
    "name": "ipython",
    "version": 3
   },
   "file_extension": ".py",
   "mimetype": "text/x-python",
   "name": "python",
   "nbconvert_exporter": "python",
   "pygments_lexer": "ipython3",
   "version": "3.11.4"
  }
 },
 "nbformat": 4,
 "nbformat_minor": 5
}
