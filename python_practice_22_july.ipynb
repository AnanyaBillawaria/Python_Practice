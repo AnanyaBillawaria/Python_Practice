{
 "cells": [
  {
   "cell_type": "code",
   "execution_count": null,
   "id": "f49e24ae",
   "metadata": {},
   "outputs": [
    {
     "name": "stdout",
     "output_type": "stream",
     "text": [
      "check\n",
      "nope babes\n"
     ]
    }
   ],
   "source": [
    "is_old = False\n",
    "is_licenced = False\n",
    "\n",
    "if is_old :\n",
    "    print('you are allowed to drive')\n",
    "elif is_licenced:\n",
    "    print('you can drive')\n",
    "else:\n",
    "    print('check')\n",
    "print('nope babes')"
   ]
  },
  {
   "cell_type": "code",
   "execution_count": 12,
   "id": "92a62734",
   "metadata": {},
   "outputs": [
    {
     "name": "stdout",
     "output_type": "stream",
     "text": [
      "not allowed\n",
      "nope babes\n"
     ]
    }
   ],
   "source": [
    "is_old = False\n",
    "is_licenced = False\n",
    "\n",
    "if is_old and is_licenced:\n",
    "    print('you are allowed to drive')\n",
    "else:\n",
    "    print('not allowed')\n",
    "print('nope babes')"
   ]
  },
  {
   "cell_type": "code",
   "execution_count": 14,
   "id": "d270ce10",
   "metadata": {},
   "outputs": [
    {
     "name": "stdout",
     "output_type": "stream",
     "text": [
      "not allowed\n",
      "nope babes\n"
     ]
    }
   ],
   "source": [
    "#truthsy and falsy\n",
    "is_old = 'hello' # 0 , '', None , {} is falsy\n",
    "is_licenced = 0\n",
    "\n",
    "if is_old and is_licenced:\n",
    "    print('you are allowed to drive')\n",
    "else:\n",
    "    print('not allowed')\n",
    "print('nope babes')"
   ]
  },
  {
   "cell_type": "code",
   "execution_count": 15,
   "id": "4a436dd5",
   "metadata": {},
   "outputs": [
    {
     "name": "stdout",
     "output_type": "stream",
     "text": [
      "you have entered\n",
      "nope babes\n"
     ]
    }
   ],
   "source": [
    "password = '123' # 0 , '', None , {} is falsy\n",
    "username = 'john'\n",
    "\n",
    "if password and username:\n",
    "    print('you have entered')\n",
    "else:\n",
    "    print('not allowed')\n",
    "print('nope babes')\n"
   ]
  },
  {
   "cell_type": "code",
   "execution_count": null,
   "id": "f9b37894",
   "metadata": {},
   "outputs": [],
   "source": [
    "# ternary Operator \n",
    "#aka conditional expressions \n",
    "#condition_if_true if condition else condition_if_else"
   ]
  },
  {
   "cell_type": "code",
   "execution_count": 17,
   "id": "cbe75cdb",
   "metadata": {},
   "outputs": [
    {
     "name": "stdout",
     "output_type": "stream",
     "text": [
      "not allowed\n"
     ]
    }
   ],
   "source": [
    "is_friend = False\n",
    "can_message = 'message allowed' if is_friend else \"not allowed\"\n",
    "print(can_message)"
   ]
  },
  {
   "cell_type": "code",
   "execution_count": 22,
   "id": "6fc41a3c",
   "metadata": {},
   "outputs": [],
   "source": [
    "# short circuiting \n",
    "\n",
    "is_friend = True\n",
    "is_user = False\n",
    "\n",
    "if is_friend and is_user:\n",
    "    print('besties')"
   ]
  },
  {
   "cell_type": "code",
   "execution_count": 28,
   "id": "793bc2a9",
   "metadata": {},
   "outputs": [
    {
     "name": "stdout",
     "output_type": "stream",
     "text": [
      "False\n",
      "True\n",
      "True\n"
     ]
    }
   ],
   "source": [
    "# logical operators\n",
    "\n",
    "print(4>5)\n",
    "print(9>5)\n",
    "print('a'> 'A')"
   ]
  },
  {
   "cell_type": "code",
   "execution_count": null,
   "id": "10fa5120",
   "metadata": {},
   "outputs": [
    {
     "name": "stdout",
     "output_type": "stream",
     "text": [
      "True\n",
      "False\n"
     ]
    }
   ],
   "source": [
    "print(1 >= 0 )\n",
    "print(0 != 0)"
   ]
  },
  {
   "cell_type": "code",
   "execution_count": null,
   "id": "ae3f7b5e",
   "metadata": {},
   "outputs": [
    {
     "name": "stdout",
     "output_type": "stream",
     "text": [
      "True\n"
     ]
    }
   ],
   "source": [
    "# not\n",
    "print(not(False))  # get opposite"
   ]
  },
  {
   "cell_type": "code",
   "execution_count": 33,
   "id": "6d8e9b9d",
   "metadata": {},
   "outputs": [
    {
     "name": "stdout",
     "output_type": "stream",
     "text": [
      "False\n"
     ]
    }
   ],
   "source": [
    "print(not(1==1))"
   ]
  },
  {
   "cell_type": "code",
   "execution_count": null,
   "id": "0a993dc9",
   "metadata": {},
   "outputs": [],
   "source": [
    "#excercise\n",
    "\n",
    "is_magician =  False\n",
    "is_expert = True\n",
    "#check if magician AND expert: \" you are a master magiacian\"\n",
    "# if magician not expert : \" atleast youre getting there\"\n",
    "# if expert and not magician\"\" you need magic powers\"\n",
    "\n",
    "#use logical operators "
   ]
  },
  {
   "cell_type": "code",
   "execution_count": 39,
   "id": "39f37277",
   "metadata": {},
   "outputs": [
    {
     "name": "stdout",
     "output_type": "stream",
     "text": [
      "you need magic powers\n"
     ]
    }
   ],
   "source": [
    "is_magician =  False\n",
    "is_expert = True\n",
    "\n",
    "if is_magician and is_expert:\n",
    "    print(\" you are a master magiacian\")\n",
    "elif is_magician and not is_expert:\n",
    "    print(\" atleast youre getting there\")\n",
    "elif is_expert and not is_magician:\n",
    "    print(\"you need magic powers\")\n",
    "else:\n",
    "    print(\"okay looser\")"
   ]
  }
 ],
 "metadata": {
  "kernelspec": {
   "display_name": ".venv",
   "language": "python",
   "name": "python3"
  },
  "language_info": {
   "codemirror_mode": {
    "name": "ipython",
    "version": 3
   },
   "file_extension": ".py",
   "mimetype": "text/x-python",
   "name": "python",
   "nbconvert_exporter": "python",
   "pygments_lexer": "ipython3",
   "version": "3.11.9"
  }
 },
 "nbformat": 4,
 "nbformat_minor": 5
}
